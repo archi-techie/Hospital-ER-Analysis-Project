{
 "cells": [
  {
   "cell_type": "markdown",
   "id": "09ade773",
   "metadata": {},
   "source": [
    "   ## The Hospital Emergency Room (ER) Data Analytics Project  "
   ]
  },
  {
   "cell_type": "markdown",
   "id": "77e24680",
   "metadata": {},
   "source": [
    "### Introduction\n",
    "\n",
    "\n",
    "This project is a Descriptive Analytics of a Hospital ER data containing patients’ demographics, wait time, department referrals, other patient care, as well as satisfaction score given by the patients. It tells the data story by identifying trends, engineering features, and correlating factors to answer questions and present actionable insights through clear visualizations and summaries.\n",
    "\n",
    "\n",
    "Questions asked and answered. \n",
    "1.\tHow do wait times vary by department and age group?\n",
    "2.\tAre patients with higher wait times less likely to report satisfaction?\n",
    "3.\tWhich demographic is most frequently referred to specific departments?\n",
    "\n",
    "Additional Question \n",
    "\n",
    "4.\t What are the busiest periods in the ER?\n"
   ]
  },
  {
   "cell_type": "code",
   "execution_count": 36,
   "id": "20cfdee8",
   "metadata": {},
   "outputs": [],
   "source": [
    "import pandas as pd\n",
    "import numpy as np\n",
    "import matplotlib.pyplot as plt\n",
    "import seaborn as sns\n",
    "from scipy.stats import pearsonr"
   ]
  },
  {
   "cell_type": "code",
   "execution_count": 2,
   "id": "38fec1c6",
   "metadata": {
    "scrolled": false
   },
   "outputs": [
    {
     "data": {
      "text/html": [
       "<div>\n",
       "<style scoped>\n",
       "    .dataframe tbody tr th:only-of-type {\n",
       "        vertical-align: middle;\n",
       "    }\n",
       "\n",
       "    .dataframe tbody tr th {\n",
       "        vertical-align: top;\n",
       "    }\n",
       "\n",
       "    .dataframe thead th {\n",
       "        text-align: right;\n",
       "    }\n",
       "</style>\n",
       "<table border=\"1\" class=\"dataframe\">\n",
       "  <thead>\n",
       "    <tr style=\"text-align: right;\">\n",
       "      <th></th>\n",
       "      <th>Patient Id</th>\n",
       "      <th>Patient Admission Date</th>\n",
       "      <th>Patient First Inital</th>\n",
       "      <th>Patient Last Name</th>\n",
       "      <th>Patient Gender</th>\n",
       "      <th>Patient Age</th>\n",
       "      <th>Patient Race</th>\n",
       "      <th>Department Referral</th>\n",
       "      <th>Patient Admission Flag</th>\n",
       "      <th>Patient Satisfaction Score</th>\n",
       "      <th>Patient Waittime</th>\n",
       "      <th>Patients CM</th>\n",
       "    </tr>\n",
       "  </thead>\n",
       "  <tbody>\n",
       "    <tr>\n",
       "      <th>0</th>\n",
       "      <td>145-39-5406</td>\n",
       "      <td>20/03/2024 08:47</td>\n",
       "      <td>H</td>\n",
       "      <td>Glasspool</td>\n",
       "      <td>M</td>\n",
       "      <td>69</td>\n",
       "      <td>White</td>\n",
       "      <td>None</td>\n",
       "      <td>False</td>\n",
       "      <td>10.0</td>\n",
       "      <td>39</td>\n",
       "      <td>0</td>\n",
       "    </tr>\n",
       "    <tr>\n",
       "      <th>1</th>\n",
       "      <td>316-34-3057</td>\n",
       "      <td>15/06/2024 11:29</td>\n",
       "      <td>X</td>\n",
       "      <td>Methuen</td>\n",
       "      <td>M</td>\n",
       "      <td>4</td>\n",
       "      <td>Native American/Alaska Native</td>\n",
       "      <td>None</td>\n",
       "      <td>True</td>\n",
       "      <td>NaN</td>\n",
       "      <td>27</td>\n",
       "      <td>0</td>\n",
       "    </tr>\n",
       "    <tr>\n",
       "      <th>2</th>\n",
       "      <td>897-46-3852</td>\n",
       "      <td>20/06/2024 09:13</td>\n",
       "      <td>P</td>\n",
       "      <td>Schubuser</td>\n",
       "      <td>F</td>\n",
       "      <td>56</td>\n",
       "      <td>African American</td>\n",
       "      <td>General Practice</td>\n",
       "      <td>True</td>\n",
       "      <td>9.0</td>\n",
       "      <td>55</td>\n",
       "      <td>0</td>\n",
       "    </tr>\n",
       "    <tr>\n",
       "      <th>3</th>\n",
       "      <td>358-31-9711</td>\n",
       "      <td>04/02/2024 22:34</td>\n",
       "      <td>U</td>\n",
       "      <td>Titcombe</td>\n",
       "      <td>F</td>\n",
       "      <td>24</td>\n",
       "      <td>Native American/Alaska Native</td>\n",
       "      <td>General Practice</td>\n",
       "      <td>True</td>\n",
       "      <td>8.0</td>\n",
       "      <td>31</td>\n",
       "      <td>0</td>\n",
       "    </tr>\n",
       "    <tr>\n",
       "      <th>4</th>\n",
       "      <td>289-26-0537</td>\n",
       "      <td>04/09/2024 17:48</td>\n",
       "      <td>Y</td>\n",
       "      <td>Gionettitti</td>\n",
       "      <td>M</td>\n",
       "      <td>5</td>\n",
       "      <td>African American</td>\n",
       "      <td>Orthopedics</td>\n",
       "      <td>False</td>\n",
       "      <td>NaN</td>\n",
       "      <td>10</td>\n",
       "      <td>0</td>\n",
       "    </tr>\n",
       "  </tbody>\n",
       "</table>\n",
       "</div>"
      ],
      "text/plain": [
       "    Patient Id Patient Admission Date Patient First Inital Patient Last Name  \\\n",
       "0  145-39-5406       20/03/2024 08:47                    H         Glasspool   \n",
       "1  316-34-3057       15/06/2024 11:29                    X           Methuen   \n",
       "2  897-46-3852       20/06/2024 09:13                    P         Schubuser   \n",
       "3  358-31-9711       04/02/2024 22:34                    U          Titcombe   \n",
       "4  289-26-0537       04/09/2024 17:48                    Y       Gionettitti   \n",
       "\n",
       "  Patient Gender  Patient Age                   Patient Race  \\\n",
       "0              M           69                          White   \n",
       "1              M            4  Native American/Alaska Native   \n",
       "2              F           56               African American   \n",
       "3              F           24  Native American/Alaska Native   \n",
       "4              M            5               African American   \n",
       "\n",
       "  Department Referral  Patient Admission Flag  Patient Satisfaction Score  \\\n",
       "0                None                   False                        10.0   \n",
       "1                None                    True                         NaN   \n",
       "2    General Practice                    True                         9.0   \n",
       "3    General Practice                    True                         8.0   \n",
       "4         Orthopedics                   False                         NaN   \n",
       "\n",
       "   Patient Waittime  Patients CM  \n",
       "0                39            0  \n",
       "1                27            0  \n",
       "2                55            0  \n",
       "3                31            0  \n",
       "4                10            0  "
      ]
     },
     "execution_count": 2,
     "metadata": {},
     "output_type": "execute_result"
    }
   ],
   "source": [
    "df = pd.read_csv(\"Hospital ER_Data 2.csv\")\n",
    "df.head()"
   ]
  },
  {
   "cell_type": "code",
   "execution_count": 3,
   "id": "ba4b7856",
   "metadata": {},
   "outputs": [
    {
     "data": {
      "text/plain": [
       "Index(['Patient Id', 'Patient Admission Date', 'Patient First Inital',\n",
       "       'Patient Last Name', 'Patient Gender', 'Patient Age', 'Patient Race',\n",
       "       'Department Referral', 'Patient Admission Flag',\n",
       "       'Patient Satisfaction Score', 'Patient Waittime', 'Patients CM'],\n",
       "      dtype='object')"
      ]
     },
     "execution_count": 3,
     "metadata": {},
     "output_type": "execute_result"
    }
   ],
   "source": [
    "df.columns"
   ]
  },
  {
   "cell_type": "code",
   "execution_count": 4,
   "id": "82e619e5",
   "metadata": {
    "scrolled": false
   },
   "outputs": [
    {
     "name": "stdout",
     "output_type": "stream",
     "text": [
      "<class 'pandas.core.frame.DataFrame'>\n",
      "RangeIndex: 9216 entries, 0 to 9215\n",
      "Data columns (total 12 columns):\n",
      " #   Column                      Non-Null Count  Dtype  \n",
      "---  ------                      --------------  -----  \n",
      " 0   Patient Id                  9216 non-null   object \n",
      " 1   Patient Admission Date      9216 non-null   object \n",
      " 2   Patient First Inital        9216 non-null   object \n",
      " 3   Patient Last Name           9216 non-null   object \n",
      " 4   Patient Gender              9216 non-null   object \n",
      " 5   Patient Age                 9216 non-null   int64  \n",
      " 6   Patient Race                9216 non-null   object \n",
      " 7   Department Referral         9216 non-null   object \n",
      " 8   Patient Admission Flag      9216 non-null   bool   \n",
      " 9   Patient Satisfaction Score  2517 non-null   float64\n",
      " 10  Patient Waittime            9216 non-null   int64  \n",
      " 11  Patients CM                 9216 non-null   int64  \n",
      "dtypes: bool(1), float64(1), int64(3), object(7)\n",
      "memory usage: 801.1+ KB\n"
     ]
    }
   ],
   "source": [
    "df.info()"
   ]
  },
  {
   "cell_type": "markdown",
   "id": "65427c72",
   "metadata": {},
   "source": [
    "## Data Cleaning"
   ]
  },
  {
   "cell_type": "code",
   "execution_count": 5,
   "id": "dd10b537",
   "metadata": {},
   "outputs": [
    {
     "data": {
      "text/plain": [
       "0"
      ]
     },
     "execution_count": 5,
     "metadata": {},
     "output_type": "execute_result"
    }
   ],
   "source": [
    "#checking for duplicate entries\n",
    "\n",
    "df.duplicated().sum()"
   ]
  },
  {
   "cell_type": "code",
   "execution_count": 6,
   "id": "36f7ec56",
   "metadata": {},
   "outputs": [
    {
     "data": {
      "text/plain": [
       "Patient Id                       0\n",
       "Patient Admission Date           0\n",
       "Patient First Inital             0\n",
       "Patient Last Name                0\n",
       "Patient Gender                   0\n",
       "Patient Age                      0\n",
       "Patient Race                     0\n",
       "Department Referral              0\n",
       "Patient Admission Flag           0\n",
       "Patient Satisfaction Score    6699\n",
       "Patient Waittime                 0\n",
       "Patients CM                      0\n",
       "dtype: int64"
      ]
     },
     "execution_count": 6,
     "metadata": {},
     "output_type": "execute_result"
    }
   ],
   "source": [
    "#checcking for missing values\n",
    "\n",
    "df.isnull().sum() "
   ]
  },
  {
   "cell_type": "code",
   "execution_count": 7,
   "id": "9c18dc81",
   "metadata": {
    "scrolled": true
   },
   "outputs": [
    {
     "data": {
      "image/png": "[encoded data removed]",
      "text/plain": [
       "<Figure size 576x360 with 1 Axes>"
      ]
     },
     "metadata": {
      "needs_background": "light"
     },
     "output_type": "display_data"
    }
   ],
   "source": [
    "plt.figure(figsize=(8, 5))\n",
    "plt.hist(df[\"Patient Satisfaction Score\"], bins=5)\n",
    "plt.show()"
   ]
  },
  {
   "cell_type": "code",
   "execution_count": 8,
   "id": "e176ce37",
   "metadata": {},
   "outputs": [
    {
     "data": {
      "text/plain": [
       "count    2517.000000\n",
       "mean        4.992054\n",
       "std         3.138043\n",
       "min         0.000000\n",
       "25%         2.000000\n",
       "50%         5.000000\n",
       "75%         8.000000\n",
       "max        10.000000\n",
       "Name: Patient Satisfaction Score, dtype: float64"
      ]
     },
     "execution_count": 8,
     "metadata": {},
     "output_type": "execute_result"
    }
   ],
   "source": [
    "df[\"Patient Satisfaction Score\"].describe()"
   ]
  },
  {
   "cell_type": "code",
   "execution_count": 9,
   "id": "e264c0ea",
   "metadata": {},
   "outputs": [
    {
     "data": {
      "text/plain": [
       "Patient Id                    0\n",
       "Patient Admission Date        0\n",
       "Patient First Inital          0\n",
       "Patient Last Name             0\n",
       "Patient Gender                0\n",
       "Patient Age                   0\n",
       "Patient Race                  0\n",
       "Department Referral           0\n",
       "Patient Admission Flag        0\n",
       "Patient Satisfaction Score    0\n",
       "Patient Waittime              0\n",
       "Patients CM                   0\n",
       "dtype: int64"
      ]
     },
     "execution_count": 9,
     "metadata": {},
     "output_type": "execute_result"
    }
   ],
   "source": [
    "#filling null values with previous value\n",
    "\n",
    "df[\"Patient Satisfaction Score\"] = df[\"Patient Satisfaction Score\"].fillna(method = \"pad\")\n",
    "df.isna().sum()"
   ]
  },
  {
   "cell_type": "markdown",
   "id": "ec710554",
   "metadata": {},
   "source": [
    "## Exploratory Data Analysis EDA\n",
    "#### Categorical Data"
   ]
  },
  {
   "cell_type": "code",
   "execution_count": 10,
   "id": "32cb2b9e",
   "metadata": {
    "scrolled": false
   },
   "outputs": [
    {
     "name": "stdout",
     "output_type": "stream",
     "text": [
      "M: 51.05%\n",
      "F: 48.69%\n",
      "NC: 0.26%\n"
     ]
    },
    {
     "data": {
      "image/png": "[encoded data removed]",
      "text/plain": [
       "<Figure size 576x360 with 1 Axes>"
      ]
     },
     "metadata": {
      "needs_background": "light"
     },
     "output_type": "display_data"
    }
   ],
   "source": [
    "# analysing gender \n",
    "\n",
    "gender = df[\"Patient Gender\"].value_counts()\n",
    "\n",
    "for g, v in gender.items(): \n",
    "    percnt = round(v / len(df) * 100, 2)\n",
    "    \n",
    "    print(g + \": \" + str(percnt) + \"%\")\n",
    "    \n",
    "\n",
    "# Plotting\n",
    "plt.figure(figsize=(8, 5))\n",
    "bars = plt.bar(gender.index, gender.values, color=\"purple\")\n",
    "plt.xlabel(\"Gender\")\n",
    "plt.ylabel(\"Number of Patients\")\n",
    "plt.title(\"Gender Distribution\")\n",
    "\n",
    "for bar in bars:\n",
    "    yval = bar.get_height()\n",
    "    plt.text(bar.get_x() + bar.get_width()/2, yval, int(yval), ha=\"center\", va=\"bottom\")\n",
    "\n",
    "\n",
    "plt.show()"
   ]
  },
  {
   "cell_type": "code",
   "execution_count": 11,
   "id": "d5d57a77",
   "metadata": {},
   "outputs": [
    {
     "name": "stdout",
     "output_type": "stream",
     "text": [
      "White: 28%\n",
      "African American: 21%\n",
      "Two or More Races: 17%\n",
      "Asian: 12%\n",
      "Declined to Identify: 11%\n",
      "Pacific Islander: 6%\n",
      "Native American/Alaska Native: 5%\n"
     ]
    },
    {
     "data": {
      "image/png": "[encoded data removed]",
      "text/plain": [
       "<Figure size 1080x576 with 1 Axes>"
      ]
     },
     "metadata": {
      "needs_background": "light"
     },
     "output_type": "display_data"
    }
   ],
   "source": [
    "# analysing race\n",
    "\n",
    "race = df[\"Patient Race\"].value_counts()\n",
    "\n",
    "for r, v in race.items():\n",
    "    percnt = round(v / len(df) * 100)\n",
    "    \n",
    "    print(r + \": \" + str(percnt) + \"%\")\n",
    "\n",
    "# Plotting\n",
    "plt.figure(figsize=(15, 8))\n",
    "bars = plt.bar(race.index, race.values, color=\"blue\")\n",
    "plt.xlabel(\"Race\")\n",
    "plt.ylabel(\"Number of Patients\")\n",
    "plt.title(\"Race Distribution\")\n",
    "\n",
    "for bar in bars:\n",
    "    yval = bar.get_height()\n",
    "    plt.text(bar.get_x() + bar.get_width()/2, yval, int(yval), ha=\"center\", va=\"bottom\")\n",
    "\n",
    "\n",
    "plt.show()"
   ]
  },
  {
   "cell_type": "code",
   "execution_count": 12,
   "id": "50d58c95",
   "metadata": {},
   "outputs": [
    {
     "data": {
      "text/plain": [
       "array(['None', 'General Practice', 'Orthopedics', 'Gastroenterology',\n",
       "       'Physiotherapy', 'Neurology', 'Cardiology', 'Renal'], dtype=object)"
      ]
     },
     "execution_count": 12,
     "metadata": {},
     "output_type": "execute_result"
    }
   ],
   "source": [
    "df[\"Department Referral\"].unique()"
   ]
  },
  {
   "cell_type": "code",
   "execution_count": 13,
   "id": "c4950dc7",
   "metadata": {},
   "outputs": [
    {
     "name": "stdout",
     "output_type": "stream",
     "text": [
      "None: 59%\n",
      "General Practice: 20%\n",
      "Orthopedics: 11%\n",
      "Physiotherapy: 3%\n",
      "Cardiology: 3%\n",
      "Neurology: 2%\n",
      "Gastroenterology: 2%\n",
      "Renal: 1%\n"
     ]
    },
    {
     "data": {
      "image/png": "[encoded data removed]",
      "text/plain": [
       "<Figure size 864x504 with 1 Axes>"
      ]
     },
     "metadata": {
      "needs_background": "light"
     },
     "output_type": "display_data"
    }
   ],
   "source": [
    "#Department Referral, \n",
    "\n",
    "\n",
    "dept_ref= df[\"Department Referral\"].value_counts()\n",
    "\n",
    "for d, v in dept_ref.items():\n",
    "    percnt = round(v / len(df) * 100)\n",
    "    \n",
    "    print(d + \": \" + str(percnt) + \"%\")\n",
    "\n",
    "# Plotting\n",
    "plt.figure(figsize=(12, 7))\n",
    "bars = plt.bar(dept_ref.index, dept_ref.values, color=\"purple\")\n",
    "plt.xlabel(\"Department Referral\")\n",
    "plt.ylabel(\"Count\")\n",
    "plt.title(\"Department Referral Distribution\")\n",
    "\n",
    "for bar in bars:\n",
    "    yval = bar.get_height()\n",
    "    plt.text(bar.get_x() + bar.get_width()/2, yval, int(yval), ha=\"center\", va=\"bottom\")\n",
    "\n",
    "\n",
    "plt.show()"
   ]
  },
  {
   "cell_type": "code",
   "execution_count": 14,
   "id": "ddfc0b6e",
   "metadata": {},
   "outputs": [
    {
     "data": {
      "image/png": "[encoded data removed]",
      "text/plain": [
       "<Figure size 360x504 with 1 Axes>"
      ]
     },
     "metadata": {
      "needs_background": "light"
     },
     "output_type": "display_data"
    }
   ],
   "source": [
    "\n",
    "#Patient Admission Flag\n",
    "\n",
    "admission= df[\"Patient Admission Flag\"].value_counts()\n",
    "\n",
    "\n",
    "# Plotting\n",
    "plt.figure(figsize=(5, 7))\n",
    "bars = plt.bar(admission.index, admission.values, color=\"green\")\n",
    "plt.xticks([0, 1], [\"Not Admitted\", \"Admitted\"])\n",
    "plt.xlabel(\"Admission Flag\")\n",
    "plt.ylabel(\"Number of Patients\")\n",
    "plt.title(\"Admission Flag Distribution\")\n",
    "\n",
    "for bar in bars:\n",
    "    yval = bar.get_height()\n",
    "    plt.text(bar.get_x() + bar.get_width()/2, yval, int(yval), ha=\"center\", va=\"bottom\")\n",
    "\n",
    "\n",
    "plt.show()"
   ]
  },
  {
   "cell_type": "markdown",
   "id": "9b40d86c",
   "metadata": {},
   "source": [
    "### Numeric Data"
   ]
  },
  {
   "cell_type": "code",
   "execution_count": 15,
   "id": "049d94c6",
   "metadata": {},
   "outputs": [
    {
     "data": {
      "text/html": [
       "<div>\n",
       "<style scoped>\n",
       "    .dataframe tbody tr th:only-of-type {\n",
       "        vertical-align: middle;\n",
       "    }\n",
       "\n",
       "    .dataframe tbody tr th {\n",
       "        vertical-align: top;\n",
       "    }\n",
       "\n",
       "    .dataframe thead th {\n",
       "        text-align: right;\n",
       "    }\n",
       "</style>\n",
       "<table border=\"1\" class=\"dataframe\">\n",
       "  <thead>\n",
       "    <tr style=\"text-align: right;\">\n",
       "      <th></th>\n",
       "      <th>count</th>\n",
       "      <th>mean</th>\n",
       "      <th>std</th>\n",
       "      <th>min</th>\n",
       "      <th>25%</th>\n",
       "      <th>50%</th>\n",
       "      <th>75%</th>\n",
       "      <th>max</th>\n",
       "    </tr>\n",
       "  </thead>\n",
       "  <tbody>\n",
       "    <tr>\n",
       "      <th>Patient Age</th>\n",
       "      <td>9216.0</td>\n",
       "      <td>39.855143</td>\n",
       "      <td>22.755125</td>\n",
       "      <td>1.0</td>\n",
       "      <td>20.0</td>\n",
       "      <td>39.0</td>\n",
       "      <td>60.0</td>\n",
       "      <td>79.0</td>\n",
       "    </tr>\n",
       "    <tr>\n",
       "      <th>Patient Satisfaction Score</th>\n",
       "      <td>9216.0</td>\n",
       "      <td>6.727214</td>\n",
       "      <td>3.270915</td>\n",
       "      <td>0.0</td>\n",
       "      <td>4.0</td>\n",
       "      <td>8.0</td>\n",
       "      <td>10.0</td>\n",
       "      <td>10.0</td>\n",
       "    </tr>\n",
       "    <tr>\n",
       "      <th>Patient Waittime</th>\n",
       "      <td>9216.0</td>\n",
       "      <td>35.259874</td>\n",
       "      <td>14.735323</td>\n",
       "      <td>10.0</td>\n",
       "      <td>23.0</td>\n",
       "      <td>35.0</td>\n",
       "      <td>48.0</td>\n",
       "      <td>60.0</td>\n",
       "    </tr>\n",
       "    <tr>\n",
       "      <th>Patients CM</th>\n",
       "      <td>9216.0</td>\n",
       "      <td>0.052083</td>\n",
       "      <td>0.222207</td>\n",
       "      <td>0.0</td>\n",
       "      <td>0.0</td>\n",
       "      <td>0.0</td>\n",
       "      <td>0.0</td>\n",
       "      <td>1.0</td>\n",
       "    </tr>\n",
       "  </tbody>\n",
       "</table>\n",
       "</div>"
      ],
      "text/plain": [
       "                             count       mean        std   min   25%   50%  \\\n",
       "Patient Age                 9216.0  39.855143  22.755125   1.0  20.0  39.0   \n",
       "Patient Satisfaction Score  9216.0   6.727214   3.270915   0.0   4.0   8.0   \n",
       "Patient Waittime            9216.0  35.259874  14.735323  10.0  23.0  35.0   \n",
       "Patients CM                 9216.0   0.052083   0.222207   0.0   0.0   0.0   \n",
       "\n",
       "                             75%   max  \n",
       "Patient Age                 60.0  79.0  \n",
       "Patient Satisfaction Score  10.0  10.0  \n",
       "Patient Waittime            48.0  60.0  \n",
       "Patients CM                  0.0   1.0  "
      ]
     },
     "execution_count": 15,
     "metadata": {},
     "output_type": "execute_result"
    }
   ],
   "source": [
    "# statistics of numeric data\n",
    "\n",
    "df.describe().T"
   ]
  },
  {
   "cell_type": "code",
   "execution_count": 16,
   "id": "3bf5df80",
   "metadata": {
    "scrolled": true
   },
   "outputs": [
    {
     "data": {
      "image/png": "[encoded data removed]",
      "text/plain": [
       "<Figure size 576x360 with 1 Axes>"
      ]
     },
     "metadata": {
      "needs_background": "light"
     },
     "output_type": "display_data"
    }
   ],
   "source": [
    "# Patient Age\n",
    "\n",
    "plt.figure(figsize=(8, 5))\n",
    "plt.hist(df[\"Patient Age\"], bins=5)\n",
    "plt.xticks([0, 3, 12, 18, 35, 60])\n",
    "plt.xlabel(\"Age Range\")\n",
    "plt.ylabel(\"Number of Patients\")\n",
    "plt.title(\"Patients' Age Distribution\")\n",
    "plt.show()"
   ]
  },
  {
   "cell_type": "code",
   "execution_count": 17,
   "id": "dacde846",
   "metadata": {},
   "outputs": [
    {
     "data": {
      "image/png": "[encoded data removed]",
      "text/plain": [
       "<Figure size 576x360 with 1 Axes>"
      ]
     },
     "metadata": {
      "needs_background": "light"
     },
     "output_type": "display_data"
    }
   ],
   "source": [
    "#Plotting the Patient Satisfaction Score histogram distribution \n",
    "\n",
    "plt.figure(figsize=(8, 5))\n",
    "plt.hist(df[\"Patient Satisfaction Score\"], bins=5)\n",
    "plt.xlabel(\"Satisfaction Score\")\n",
    "plt.ylabel(\"Number of Patients\")\n",
    "plt.title(\"Patients' Satisfaction Score Distribution\")\n",
    "plt.show()"
   ]
  },
  {
   "cell_type": "code",
   "execution_count": 18,
   "id": "996613a3",
   "metadata": {},
   "outputs": [
    {
     "data": {
      "image/png": "[encoded data removed]",
      "text/plain": [
       "<Figure size 576x360 with 1 Axes>"
      ]
     },
     "metadata": {
      "needs_background": "light"
     },
     "output_type": "display_data"
    }
   ],
   "source": [
    "#Plotting the Patient wait time histogram distribution\n",
    "\n",
    "plt.figure(figsize=(8, 5))\n",
    "plt.hist(df[\"Patient Waittime\"], bins=5)\n",
    "plt.xlabel(\"Wait time\")\n",
    "plt.ylabel(\"Number of Patients\")\n",
    "plt.title(\"Patients' Waite time Distribution\")\n",
    "plt.show()"
   ]
  },
  {
   "cell_type": "code",
   "execution_count": 19,
   "id": "c432ace4",
   "metadata": {},
   "outputs": [
    {
     "data": {
      "image/png": "[encoded data removed]",
      "text/plain": [
       "<Figure size 576x360 with 1 Axes>"
      ]
     },
     "metadata": {
      "needs_background": "light"
     },
     "output_type": "display_data"
    }
   ],
   "source": [
    "#Plotting the Patient Critical Management histogram distribution\n",
    "plt.figure(figsize=(8, 5))\n",
    "plt.hist(df[\"Patients CM\"], bins=5)\n",
    "plt.xticks([0, 1], ['No Critical Management', 'Critical Management'])\n",
    "plt.xlabel(\"CM\")\n",
    "plt.ylabel(\"Number of Patients\")\n",
    "plt.title(\"Patients' Critical Management Distribution\")\n",
    "plt.show()"
   ]
  },
  {
   "cell_type": "code",
   "execution_count": 20,
   "id": "836800ea",
   "metadata": {},
   "outputs": [
    {
     "data": {
      "text/plain": [
       "0    8736\n",
       "1     480\n",
       "Name: Patients CM, dtype: int64"
      ]
     },
     "execution_count": 20,
     "metadata": {},
     "output_type": "execute_result"
    }
   ],
   "source": [
    "cm = df[\"Patients CM\"].value_counts()\n",
    "cm"
   ]
  },
  {
   "cell_type": "markdown",
   "id": "e5ac44c7",
   "metadata": {},
   "source": [
    "## Feature Engineering "
   ]
  },
  {
   "cell_type": "code",
   "execution_count": 21,
   "id": "eacc346a",
   "metadata": {
    "scrolled": true
   },
   "outputs": [
    {
     "data": {
      "text/html": [
       "<div>\n",
       "<style scoped>\n",
       "    .dataframe tbody tr th:only-of-type {\n",
       "        vertical-align: middle;\n",
       "    }\n",
       "\n",
       "    .dataframe tbody tr th {\n",
       "        vertical-align: top;\n",
       "    }\n",
       "\n",
       "    .dataframe thead th {\n",
       "        text-align: right;\n",
       "    }\n",
       "</style>\n",
       "<table border=\"1\" class=\"dataframe\">\n",
       "  <thead>\n",
       "    <tr style=\"text-align: right;\">\n",
       "      <th></th>\n",
       "      <th>Patient Id</th>\n",
       "      <th>Patient Admission Date</th>\n",
       "      <th>Patient First Inital</th>\n",
       "      <th>Patient Last Name</th>\n",
       "      <th>Patient Gender</th>\n",
       "      <th>Patient Age</th>\n",
       "      <th>Patient Race</th>\n",
       "      <th>Department Referral</th>\n",
       "      <th>Patient Admission Flag</th>\n",
       "      <th>Patient Satisfaction Score</th>\n",
       "      <th>Patient Waittime</th>\n",
       "      <th>Patients CM</th>\n",
       "      <th>Patient Agegroup</th>\n",
       "    </tr>\n",
       "  </thead>\n",
       "  <tbody>\n",
       "    <tr>\n",
       "      <th>0</th>\n",
       "      <td>145-39-5406</td>\n",
       "      <td>20/03/2024 08:47</td>\n",
       "      <td>H</td>\n",
       "      <td>Glasspool</td>\n",
       "      <td>M</td>\n",
       "      <td>69</td>\n",
       "      <td>White</td>\n",
       "      <td>None</td>\n",
       "      <td>False</td>\n",
       "      <td>10.0</td>\n",
       "      <td>39</td>\n",
       "      <td>0</td>\n",
       "      <td>Senior</td>\n",
       "    </tr>\n",
       "    <tr>\n",
       "      <th>1</th>\n",
       "      <td>316-34-3057</td>\n",
       "      <td>15/06/2024 11:29</td>\n",
       "      <td>X</td>\n",
       "      <td>Methuen</td>\n",
       "      <td>M</td>\n",
       "      <td>4</td>\n",
       "      <td>Native American/Alaska Native</td>\n",
       "      <td>None</td>\n",
       "      <td>True</td>\n",
       "      <td>10.0</td>\n",
       "      <td>27</td>\n",
       "      <td>0</td>\n",
       "      <td>Child</td>\n",
       "    </tr>\n",
       "    <tr>\n",
       "      <th>2</th>\n",
       "      <td>897-46-3852</td>\n",
       "      <td>20/06/2024 09:13</td>\n",
       "      <td>P</td>\n",
       "      <td>Schubuser</td>\n",
       "      <td>F</td>\n",
       "      <td>56</td>\n",
       "      <td>African American</td>\n",
       "      <td>General Practice</td>\n",
       "      <td>True</td>\n",
       "      <td>9.0</td>\n",
       "      <td>55</td>\n",
       "      <td>0</td>\n",
       "      <td>Senior</td>\n",
       "    </tr>\n",
       "    <tr>\n",
       "      <th>3</th>\n",
       "      <td>358-31-9711</td>\n",
       "      <td>04/02/2024 22:34</td>\n",
       "      <td>U</td>\n",
       "      <td>Titcombe</td>\n",
       "      <td>F</td>\n",
       "      <td>24</td>\n",
       "      <td>Native American/Alaska Native</td>\n",
       "      <td>General Practice</td>\n",
       "      <td>True</td>\n",
       "      <td>8.0</td>\n",
       "      <td>31</td>\n",
       "      <td>0</td>\n",
       "      <td>Young Adult</td>\n",
       "    </tr>\n",
       "    <tr>\n",
       "      <th>4</th>\n",
       "      <td>289-26-0537</td>\n",
       "      <td>04/09/2024 17:48</td>\n",
       "      <td>Y</td>\n",
       "      <td>Gionettitti</td>\n",
       "      <td>M</td>\n",
       "      <td>5</td>\n",
       "      <td>African American</td>\n",
       "      <td>Orthopedics</td>\n",
       "      <td>False</td>\n",
       "      <td>8.0</td>\n",
       "      <td>10</td>\n",
       "      <td>0</td>\n",
       "      <td>Child</td>\n",
       "    </tr>\n",
       "  </tbody>\n",
       "</table>\n",
       "</div>"
      ],
      "text/plain": [
       "    Patient Id Patient Admission Date Patient First Inital Patient Last Name  \\\n",
       "0  145-39-5406       20/03/2024 08:47                    H         Glasspool   \n",
       "1  316-34-3057       15/06/2024 11:29                    X           Methuen   \n",
       "2  897-46-3852       20/06/2024 09:13                    P         Schubuser   \n",
       "3  358-31-9711       04/02/2024 22:34                    U          Titcombe   \n",
       "4  289-26-0537       04/09/2024 17:48                    Y       Gionettitti   \n",
       "\n",
       "  Patient Gender  Patient Age                   Patient Race  \\\n",
       "0              M           69                          White   \n",
       "1              M            4  Native American/Alaska Native   \n",
       "2              F           56               African American   \n",
       "3              F           24  Native American/Alaska Native   \n",
       "4              M            5               African American   \n",
       "\n",
       "  Department Referral  Patient Admission Flag  Patient Satisfaction Score  \\\n",
       "0                None                   False                        10.0   \n",
       "1                None                    True                        10.0   \n",
       "2    General Practice                    True                         9.0   \n",
       "3    General Practice                    True                         8.0   \n",
       "4         Orthopedics                   False                         8.0   \n",
       "\n",
       "   Patient Waittime  Patients CM Patient Agegroup  \n",
       "0                39            0           Senior  \n",
       "1                27            0            Child  \n",
       "2                55            0           Senior  \n",
       "3                31            0      Young Adult  \n",
       "4                10            0            Child  "
      ]
     },
     "execution_count": 21,
     "metadata": {},
     "output_type": "execute_result"
    }
   ],
   "source": [
    "#Grouping ages into 'Child', 'Teen', 'Young Adult', 'Adult', and 'Senior'\n",
    "\n",
    "Age_Group = []\n",
    "\n",
    "for age in df[\"Patient Age\"]:\n",
    "    if age < 3:\n",
    "        group = \"Infant\"\n",
    "    elif age < 13:\n",
    "        group = \"Child\"\n",
    "    elif age < 20:\n",
    "        group = \"Teenager\"\n",
    "    elif age < 36:\n",
    "        group = \"Young Adult\"\n",
    "    elif age < 56:\n",
    "        group = \"Adult\"\n",
    "    else:\n",
    "        group = \"Senior\"\n",
    "    \n",
    "    Age_Group.append(group)\n",
    "    \n",
    "    \n",
    "df[\"Patient Agegroup\"] = Age_Group\n",
    "df.head()\n"
   ]
  },
  {
   "cell_type": "code",
   "execution_count": 22,
   "id": "0c33333d",
   "metadata": {},
   "outputs": [
    {
     "name": "stdout",
     "output_type": "stream",
     "text": [
      "Senior: 30%\n",
      "Adult: 25%\n",
      "Young Adult: 20%\n",
      "Child: 13%\n",
      "Teenager: 9%\n",
      "Infant: 2%\n"
     ]
    },
    {
     "data": {
      "image/png": "[encoded data removed]",
      "text/plain": [
       "<Figure size 360x504 with 1 Axes>"
      ]
     },
     "metadata": {
      "needs_background": "light"
     },
     "output_type": "display_data"
    }
   ],
   "source": [
    "\n",
    "#'Patient Age group'\n",
    "\n",
    "ag= df[\"Patient Agegroup\"].value_counts()\n",
    "\n",
    "for p, v in ag.items():\n",
    "    percnt = round(v / len(df) * 100)\n",
    "    \n",
    "    print(p + \": \" + str(percnt) + \"%\")\n",
    "\n",
    "\n",
    "\n",
    "# Plotting\n",
    "plt.figure(figsize=(5, 7))\n",
    "bars = plt.bar(ag.index, ag.values, color=\"green\")\n",
    "plt.xlabel(\"Patient Agegroup\")\n",
    "plt.ylabel(\"Number of Patient\")\n",
    "plt.title(\"Patient Age group Distribution\")\n",
    "\n",
    "for bar in bars:\n",
    "    yval = bar.get_height()\n",
    "    plt.text(bar.get_x() + bar.get_width()/2, yval, int(yval), ha=\"center\", va=\"bottom\")\n",
    "\n",
    "\n",
    "plt.show()"
   ]
  },
  {
   "cell_type": "code",
   "execution_count": 23,
   "id": "aec7c8fd",
   "metadata": {
    "scrolled": false
   },
   "outputs": [
    {
     "data": {
      "text/html": [
       "<div>\n",
       "<style scoped>\n",
       "    .dataframe tbody tr th:only-of-type {\n",
       "        vertical-align: middle;\n",
       "    }\n",
       "\n",
       "    .dataframe tbody tr th {\n",
       "        vertical-align: top;\n",
       "    }\n",
       "\n",
       "    .dataframe thead th {\n",
       "        text-align: right;\n",
       "    }\n",
       "</style>\n",
       "<table border=\"1\" class=\"dataframe\">\n",
       "  <thead>\n",
       "    <tr style=\"text-align: right;\">\n",
       "      <th></th>\n",
       "      <th>Patient Id</th>\n",
       "      <th>Patient Admission Date</th>\n",
       "      <th>Patient First Inital</th>\n",
       "      <th>Patient Last Name</th>\n",
       "      <th>Patient Gender</th>\n",
       "      <th>Patient Age</th>\n",
       "      <th>Patient Race</th>\n",
       "      <th>Department Referral</th>\n",
       "      <th>Patient Admission Flag</th>\n",
       "      <th>Patient Satisfaction Score</th>\n",
       "      <th>Patient Waittime</th>\n",
       "      <th>Patients CM</th>\n",
       "      <th>Patient Agegroup</th>\n",
       "      <th>MonthName</th>\n",
       "      <th>DayOfWeek</th>\n",
       "      <th>Hour</th>\n",
       "      <th>Year</th>\n",
       "    </tr>\n",
       "  </thead>\n",
       "  <tbody>\n",
       "    <tr>\n",
       "      <th>0</th>\n",
       "      <td>145-39-5406</td>\n",
       "      <td>2024-03-20 08:47:00</td>\n",
       "      <td>H</td>\n",
       "      <td>Glasspool</td>\n",
       "      <td>M</td>\n",
       "      <td>69</td>\n",
       "      <td>White</td>\n",
       "      <td>None</td>\n",
       "      <td>False</td>\n",
       "      <td>10.0</td>\n",
       "      <td>39</td>\n",
       "      <td>0</td>\n",
       "      <td>Senior</td>\n",
       "      <td>March</td>\n",
       "      <td>Wednesday</td>\n",
       "      <td>8</td>\n",
       "      <td>2024</td>\n",
       "    </tr>\n",
       "    <tr>\n",
       "      <th>1</th>\n",
       "      <td>316-34-3057</td>\n",
       "      <td>2024-06-15 11:29:00</td>\n",
       "      <td>X</td>\n",
       "      <td>Methuen</td>\n",
       "      <td>M</td>\n",
       "      <td>4</td>\n",
       "      <td>Native American/Alaska Native</td>\n",
       "      <td>None</td>\n",
       "      <td>True</td>\n",
       "      <td>10.0</td>\n",
       "      <td>27</td>\n",
       "      <td>0</td>\n",
       "      <td>Child</td>\n",
       "      <td>June</td>\n",
       "      <td>Saturday</td>\n",
       "      <td>11</td>\n",
       "      <td>2024</td>\n",
       "    </tr>\n",
       "    <tr>\n",
       "      <th>2</th>\n",
       "      <td>897-46-3852</td>\n",
       "      <td>2024-06-20 09:13:00</td>\n",
       "      <td>P</td>\n",
       "      <td>Schubuser</td>\n",
       "      <td>F</td>\n",
       "      <td>56</td>\n",
       "      <td>African American</td>\n",
       "      <td>General Practice</td>\n",
       "      <td>True</td>\n",
       "      <td>9.0</td>\n",
       "      <td>55</td>\n",
       "      <td>0</td>\n",
       "      <td>Senior</td>\n",
       "      <td>June</td>\n",
       "      <td>Thursday</td>\n",
       "      <td>9</td>\n",
       "      <td>2024</td>\n",
       "    </tr>\n",
       "    <tr>\n",
       "      <th>3</th>\n",
       "      <td>358-31-9711</td>\n",
       "      <td>2024-02-04 22:34:00</td>\n",
       "      <td>U</td>\n",
       "      <td>Titcombe</td>\n",
       "      <td>F</td>\n",
       "      <td>24</td>\n",
       "      <td>Native American/Alaska Native</td>\n",
       "      <td>General Practice</td>\n",
       "      <td>True</td>\n",
       "      <td>8.0</td>\n",
       "      <td>31</td>\n",
       "      <td>0</td>\n",
       "      <td>Young Adult</td>\n",
       "      <td>February</td>\n",
       "      <td>Sunday</td>\n",
       "      <td>22</td>\n",
       "      <td>2024</td>\n",
       "    </tr>\n",
       "    <tr>\n",
       "      <th>4</th>\n",
       "      <td>289-26-0537</td>\n",
       "      <td>2024-09-04 17:48:00</td>\n",
       "      <td>Y</td>\n",
       "      <td>Gionettitti</td>\n",
       "      <td>M</td>\n",
       "      <td>5</td>\n",
       "      <td>African American</td>\n",
       "      <td>Orthopedics</td>\n",
       "      <td>False</td>\n",
       "      <td>8.0</td>\n",
       "      <td>10</td>\n",
       "      <td>0</td>\n",
       "      <td>Child</td>\n",
       "      <td>September</td>\n",
       "      <td>Wednesday</td>\n",
       "      <td>17</td>\n",
       "      <td>2024</td>\n",
       "    </tr>\n",
       "  </tbody>\n",
       "</table>\n",
       "</div>"
      ],
      "text/plain": [
       "    Patient Id Patient Admission Date Patient First Inital Patient Last Name  \\\n",
       "0  145-39-5406    2024-03-20 08:47:00                    H         Glasspool   \n",
       "1  316-34-3057    2024-06-15 11:29:00                    X           Methuen   \n",
       "2  897-46-3852    2024-06-20 09:13:00                    P         Schubuser   \n",
       "3  358-31-9711    2024-02-04 22:34:00                    U          Titcombe   \n",
       "4  289-26-0537    2024-09-04 17:48:00                    Y       Gionettitti   \n",
       "\n",
       "  Patient Gender  Patient Age                   Patient Race  \\\n",
       "0              M           69                          White   \n",
       "1              M            4  Native American/Alaska Native   \n",
       "2              F           56               African American   \n",
       "3              F           24  Native American/Alaska Native   \n",
       "4              M            5               African American   \n",
       "\n",
       "  Department Referral  Patient Admission Flag  Patient Satisfaction Score  \\\n",
       "0                None                   False                        10.0   \n",
       "1                None                    True                        10.0   \n",
       "2    General Practice                    True                         9.0   \n",
       "3    General Practice                    True                         8.0   \n",
       "4         Orthopedics                   False                         8.0   \n",
       "\n",
       "   Patient Waittime  Patients CM Patient Agegroup  MonthName  DayOfWeek  Hour  \\\n",
       "0                39            0           Senior      March  Wednesday     8   \n",
       "1                27            0            Child       June   Saturday    11   \n",
       "2                55            0           Senior       June   Thursday     9   \n",
       "3                31            0      Young Adult   February     Sunday    22   \n",
       "4                10            0            Child  September  Wednesday    17   \n",
       "\n",
       "   Year  \n",
       "0  2024  \n",
       "1  2024  \n",
       "2  2024  \n",
       "3  2024  \n",
       "4  2024  "
      ]
     },
     "execution_count": 23,
     "metadata": {},
     "output_type": "execute_result"
    }
   ],
   "source": [
    "df[\"Patient Admission Date\"] = pd.to_datetime(df['Patient Admission Date'], format='%d/%m/%Y %H:%M')\n",
    "\n",
    "# Extract month name, day of the week, and hour\n",
    "df[\"MonthName\"] = df[\"Patient Admission Date\"].dt.strftime('%B')\n",
    "df[\"DayOfWeek\"] = df[\"Patient Admission Date\"].dt.day_name()\n",
    "df[\"Hour\"] = df[\"Patient Admission Date\"].dt.hour\n",
    "df[\"Year\"] = df[\"Patient Admission Date\"].dt.year\n",
    "\n",
    "df.head()"
   ]
  },
  {
   "cell_type": "markdown",
   "id": "faf95192",
   "metadata": {},
   "source": [
    "## Question 1\n",
    "### How do wait times vary by department and age group?"
   ]
  },
  {
   "cell_type": "code",
   "execution_count": 24,
   "id": "8c088245",
   "metadata": {
    "scrolled": false
   },
   "outputs": [
    {
     "name": "stdout",
     "output_type": "stream",
     "text": [
      "Departmental referrals: ['None', 'General Practice', 'Orthopedics', 'Gastroenterology', 'Physiotherapy', 'Neurology', 'Cardiology', 'Renal']\n",
      "Their respective average patient wait time (in minutes) [35, 35, 35, 36, 37, 37, 35, 35]\n"
     ]
    },
    {
     "data": {
      "image/png": "[encoded data removed]",
      "text/plain": [
       "<Figure size 864x432 with 1 Axes>"
      ]
     },
     "metadata": {
      "needs_background": "light"
     },
     "output_type": "display_data"
    }
   ],
   "source": [
    "#Average wait time by department\n",
    "\n",
    "\n",
    "Dept = []\n",
    "waittime = []\n",
    "\n",
    "\n",
    "\n",
    "for dept in df[\"Department Referral\"].unique():\n",
    "    df_dept = df[df[\"Department Referral\"] == dept]\n",
    "    \n",
    "    mean_waittime = round(df_dept['Patient Waittime'].mean())\n",
    "    \n",
    "    Dept.append(dept)\n",
    "    waittime.append(mean_waittime)\n",
    "    \n",
    "print(\"Departmental referrals:\", Dept)  \n",
    "print(\"Their respective average patient wait time (in minutes)\", waittime)\n",
    "\n",
    "\n",
    "\n",
    "plt.figure(figsize=(12, 6))\n",
    "plt.bar(Dept, waittime)\n",
    "plt.title(\"Average Patient waittime Per Department referal\")\n",
    "plt.xlabel(\"Dept\")\n",
    "plt.ylabel(\"waittime in minutes\")\n",
    "plt.show()  "
   ]
  },
  {
   "cell_type": "code",
   "execution_count": 25,
   "id": "e56e690f",
   "metadata": {},
   "outputs": [
    {
     "name": "stdout",
     "output_type": "stream",
     "text": [
      "The Patient Ages can be grouped into: ['Senior', 'Child', 'Young Adult', 'Adult', 'Teenager', 'Infant']\n",
      "Their respective mean waittime are [35, 36, 36, 35, 35, 33]\n"
     ]
    },
    {
     "data": {
      "image/png": "[encoded data removed]",
      "text/plain": [
       "<Figure size 864x432 with 1 Axes>"
      ]
     },
     "metadata": {
      "needs_background": "light"
     },
     "output_type": "display_data"
    }
   ],
   "source": [
    "\n",
    "Agegroup = []\n",
    "Waittime = []\n",
    "\n",
    "\n",
    "\n",
    "for age in df[\"Patient Agegroup\"].unique():\n",
    "    df_age = df[df[\"Patient Agegroup\"] == age]\n",
    "    mean_Waittime = round(df_age['Patient Waittime'].mean())\n",
    "    \n",
    "    Agegroup.append(age)\n",
    "    Waittime.append(mean_Waittime)\n",
    "    \n",
    "print(\"The Patient Ages can be grouped into:\", Agegroup)  \n",
    "print(\"Their respective mean waittime are\", Waittime)\n",
    "\n",
    "\n",
    "\n",
    "plt.figure(figsize=(12, 6))\n",
    "plt.bar(Agegroup, Waittime)\n",
    "plt.title(\"Average Patient waittime Per Age group\")\n",
    "plt.xlabel(\"Age groups\")\n",
    "plt.ylabel(\"waittime in minutes\")\n",
    "plt.show() "
   ]
  },
  {
   "cell_type": "code",
   "execution_count": 26,
   "id": "c20739c1",
   "metadata": {},
   "outputs": [
    {
     "data": {
      "text/plain": [
       "Department Referral  Patient Agegroup\n",
       "None                 Senior              1603\n",
       "                     Adult               1409\n",
       "                     Young Adult         1096\n",
       "                     Child                700\n",
       "General Practice     Senior               592\n",
       "                     Adult                459\n",
       "None                 Teenager             456\n",
       "General Practice     Young Adult          359\n",
       "Orthopedics          Senior               281\n",
       "                     Adult                244\n",
       "General Practice     Child                231\n",
       "Orthopedics          Young Adult          209\n",
       "General Practice     Teenager             158\n",
       "Orthopedics          Child                136\n",
       "None                 Infant               136\n",
       "Orthopedics          Teenager              96\n",
       "Physiotherapy        Senior                89\n",
       "Cardiology           Senior                79\n",
       "Physiotherapy        Adult                 58\n",
       "Gastroenterology     Senior                58\n",
       "Neurology            Senior                57\n",
       "Cardiology           Adult                 57\n",
       "                     Young Adult           53\n",
       "Physiotherapy        Young Adult           53\n",
       "Gastroenterology     Adult                 52\n",
       "Neurology            Young Adult           44\n",
       "General Practice     Infant                41\n",
       "Neurology            Adult                 40\n",
       "Physiotherapy        Teenager              37\n",
       "                     Child                 34\n",
       "Orthopedics          Infant                29\n",
       "Neurology            Child                 28\n",
       "Cardiology           Child                 28\n",
       "Gastroenterology     Young Adult           27\n",
       "Renal                Adult                 26\n",
       "Cardiology           Teenager              26\n",
       "Gastroenterology     Child                 20\n",
       "                     Teenager              19\n",
       "Neurology            Teenager              19\n",
       "Renal                Young Adult           19\n",
       "                     Senior                17\n",
       "                     Teenager              11\n",
       "                     Child                 10\n",
       "Cardiology           Infant                 5\n",
       "Neurology            Infant                 5\n",
       "Physiotherapy        Infant                 5\n",
       "Renal                Infant                 3\n",
       "Gastroenterology     Infant                 2\n",
       "Name: Patient Agegroup, dtype: int64"
      ]
     },
     "execution_count": 26,
     "metadata": {},
     "output_type": "execute_result"
    }
   ],
   "source": [
    "data_2 =(df.groupby([\"Department Referral\"])['Patient Agegroup'].value_counts()).sort_values(ascending=False)\n",
    "data_2"
   ]
  },
  {
   "cell_type": "markdown",
   "id": "da12a098",
   "metadata": {},
   "source": [
    "## Question 2\n",
    "### Are patients with higher wait times less likely to report satisfaction?"
   ]
  },
  {
   "cell_type": "code",
   "execution_count": 27,
   "id": "0ed45537",
   "metadata": {},
   "outputs": [
    {
     "data": {
      "image/png": "[encoded data removed]",
      "text/plain": [
       "<Figure size 432x288 with 1 Axes>"
      ]
     },
     "metadata": {
      "needs_background": "light"
     },
     "output_type": "display_data"
    },
    {
     "name": "stdout",
     "output_type": "stream",
     "text": [
      "The Correlation Coefficient between Patient wait time and Satisfaction rate is: -0.01858781860252875\n"
     ]
    }
   ],
   "source": [
    "#Plotting scatter plot to show relationship between Patient wait time and satisfaction rate\n",
    "\n",
    "plt.scatter(df[\"Patient Waittime\"], df[\"Patient Satisfaction Score\"])\n",
    "plt.xlabel(\"Patient Wait time (in minutes)\")\n",
    "plt.ylabel(\"Patient Satisfaction score\")\n",
    "plt.title(\"Relationship between Patient wait time and their satisfaction score\")\n",
    "plt.show()\n",
    "\n",
    "# Calculate the Pearson correlation coefficient\n",
    "correlation_coefficient, _ = pearsonr(df[\"Patient Waittime\"], df[\"Patient Satisfaction Score\"])\n",
    "print(\"The Correlation Coefficient between Patient wait time and Satisfaction rate is:\", correlation_coefficient)"
   ]
  },
  {
   "cell_type": "markdown",
   "id": "c3804f6d",
   "metadata": {},
   "source": [
    "## Question 3 \n",
    "\n",
    "### Which demographic is most frequently referred to specific departments?"
   ]
  },
  {
   "cell_type": "code",
   "execution_count": 28,
   "id": "1eda7d0a",
   "metadata": {},
   "outputs": [
    {
     "name": "stdout",
     "output_type": "stream",
     "text": [
      "Department Referral  Patient Race      Patient Agegroup  Patient Gender\n",
      "Cardiology           White             Senior            F                  14\n",
      "Gastroenterology     African American  Child             F                   9\n",
      "General Practice     White             Senior            F                  84\n",
      "Neurology            White             Young Adult       F                   8\n",
      "None                 White             Senior            M                 237\n",
      "Orthopedics          White             Senior            M                  52\n",
      "Physiotherapy        White             Senior            F                  15\n",
      "Renal                White             Adult             F                   8\n",
      "Name: Patient Gender, dtype: int64\n"
     ]
    }
   ],
   "source": [
    "data_1 = df.groupby([\"Department Referral\", \"Patient Race\", \"Patient Agegroup\"])['Patient Gender'].value_counts()\n",
    "max_counts = data_1.groupby('Department Referral').idxmax()\n",
    "max_data_1 = data_1.loc[max_counts]\n",
    "print(max_data_1)"
   ]
  },
  {
   "cell_type": "code",
   "execution_count": 29,
   "id": "cc37fe69",
   "metadata": {},
   "outputs": [
    {
     "name": "stdout",
     "output_type": "stream",
     "text": [
      "The demographic that is most frequently referred to  None  is: White M Senior\n",
      "The demographic that is most frequently referred to  General Practice  is: White M Senior\n",
      "The demographic that is most frequently referred to  Orthopedics  is: White M Senior\n",
      "The demographic that is most frequently referred to  Gastroenterology  is: White F Senior\n",
      "The demographic that is most frequently referred to  Physiotherapy  is: White F Senior\n",
      "The demographic that is most frequently referred to  Neurology  is: White F Senior\n",
      "The demographic that is most frequently referred to  Cardiology  is: White M Senior\n",
      "The demographic that is most frequently referred to  Renal  is: White M Adult\n"
     ]
    }
   ],
   "source": [
    "for c in df[\"Department Referral\"].unique():\n",
    "    dept_df = df[df[\"Department Referral\"] == c]\n",
    "    \n",
    "    Race = dept_df[\"Patient Race\"].value_counts().sort_values(ascending=False).index[0]\n",
    "    Gender = dept_df[\"Patient Gender\"].value_counts().sort_values(ascending=False).index[0]\n",
    "    AgeGroup = dept_df[\"Patient Agegroup\"].value_counts().sort_values(ascending=False).index[0] \n",
    "  \n",
    "    print(\"The demographic that is most frequently referred to \", c,\" is: \" + Race + \" \" + Gender + \" \" + AgeGroup)\n"
   ]
  },
  {
   "cell_type": "markdown",
   "id": "f0b00381",
   "metadata": {},
   "source": [
    " Question 4\n",
    "### What are the busiest periods in the ER?"
   ]
  },
  {
   "cell_type": "code",
   "execution_count": 37,
   "id": "7c2b1182",
   "metadata": {
    "scrolled": true
   },
   "outputs": [
    {
     "ename": "ValueError",
     "evalue": "Length of Int64Index vectors must match length of `data` when both are used, but `data` has length 9216 and the vector passed to `x` has length 24.",
     "output_type": "error",
     "traceback": [
      "\u001b[1;31m---------------------------------------------------------------------------\u001b[0m",
      "\u001b[1;31mValueError\u001b[0m                                Traceback (most recent call last)",
      "\u001b[1;32mC:\\Users\\MUIBAT~1\\AppData\\Local\\Temp/ipykernel_20720/1256224676.py\u001b[0m in \u001b[0;36m<module>\u001b[1;34m\u001b[0m\n\u001b[0;32m     11\u001b[0m \u001b[1;33m\u001b[0m\u001b[0m\n\u001b[0;32m     12\u001b[0m \u001b[0mplt\u001b[0m\u001b[1;33m.\u001b[0m\u001b[0mfigure\u001b[0m\u001b[1;33m(\u001b[0m\u001b[0mfigsize\u001b[0m\u001b[1;33m=\u001b[0m\u001b[1;33m(\u001b[0m\u001b[1;36m12\u001b[0m\u001b[1;33m,\u001b[0m \u001b[1;36m5\u001b[0m\u001b[1;33m)\u001b[0m\u001b[1;33m)\u001b[0m\u001b[1;33m\u001b[0m\u001b[1;33m\u001b[0m\u001b[0m\n\u001b[1;32m---> 13\u001b[1;33m \u001b[0msns\u001b[0m\u001b[1;33m.\u001b[0m\u001b[0mlineplot\u001b[0m\u001b[1;33m(\u001b[0m\u001b[0mdata\u001b[0m\u001b[1;33m=\u001b[0m\u001b[0mdfSub\u001b[0m\u001b[1;33m,\u001b[0m \u001b[0mx\u001b[0m\u001b[1;33m=\u001b[0m\u001b[0mhour\u001b[0m\u001b[1;33m.\u001b[0m\u001b[0mindex\u001b[0m\u001b[1;33m,\u001b[0m \u001b[0my\u001b[0m\u001b[1;33m=\u001b[0m\u001b[0mhour\u001b[0m\u001b[1;33m.\u001b[0m\u001b[0mvalues\u001b[0m\u001b[1;33m,\u001b[0m \u001b[0mhue\u001b[0m\u001b[1;33m=\u001b[0m\u001b[1;34m'yellow'\u001b[0m\u001b[1;33m,\u001b[0m \u001b[0malpha\u001b[0m\u001b[1;33m=\u001b[0m\u001b[1;36m0.8\u001b[0m\u001b[1;33m,\u001b[0m \u001b[0mlinewidth\u001b[0m\u001b[1;33m=\u001b[0m\u001b[1;36m2\u001b[0m\u001b[1;33m)\u001b[0m\u001b[1;31m#plt.plot(hour.index,hour.values)\u001b[0m\u001b[1;33m\u001b[0m\u001b[1;33m\u001b[0m\u001b[0m\n\u001b[0m\u001b[0;32m     14\u001b[0m \u001b[0mplt\u001b[0m\u001b[1;33m.\u001b[0m\u001b[0mxticks\u001b[0m\u001b[1;33m(\u001b[0m\u001b[0mhour\u001b[0m\u001b[1;33m.\u001b[0m\u001b[0mindex\u001b[0m\u001b[1;33m)\u001b[0m\u001b[1;33m\u001b[0m\u001b[1;33m\u001b[0m\u001b[0m\n\u001b[0;32m     15\u001b[0m \u001b[0mplt\u001b[0m\u001b[1;33m.\u001b[0m\u001b[0mxlabel\u001b[0m\u001b[1;33m(\u001b[0m\u001b[1;34m\"Hours of the day\"\u001b[0m\u001b[1;33m)\u001b[0m\u001b[1;33m\u001b[0m\u001b[1;33m\u001b[0m\u001b[0m\n",
      "\u001b[1;32mC:\\Anaconda\\lib\\site-packages\\seaborn\\_decorators.py\u001b[0m in \u001b[0;36minner_f\u001b[1;34m(*args, **kwargs)\u001b[0m\n\u001b[0;32m     44\u001b[0m             )\n\u001b[0;32m     45\u001b[0m         \u001b[0mkwargs\u001b[0m\u001b[1;33m.\u001b[0m\u001b[0mupdate\u001b[0m\u001b[1;33m(\u001b[0m\u001b[1;33m{\u001b[0m\u001b[0mk\u001b[0m\u001b[1;33m:\u001b[0m \u001b[0marg\u001b[0m \u001b[1;32mfor\u001b[0m \u001b[0mk\u001b[0m\u001b[1;33m,\u001b[0m \u001b[0marg\u001b[0m \u001b[1;32min\u001b[0m \u001b[0mzip\u001b[0m\u001b[1;33m(\u001b[0m\u001b[0msig\u001b[0m\u001b[1;33m.\u001b[0m\u001b[0mparameters\u001b[0m\u001b[1;33m,\u001b[0m \u001b[0margs\u001b[0m\u001b[1;33m)\u001b[0m\u001b[1;33m}\u001b[0m\u001b[1;33m)\u001b[0m\u001b[1;33m\u001b[0m\u001b[1;33m\u001b[0m\u001b[0m\n\u001b[1;32m---> 46\u001b[1;33m         \u001b[1;32mreturn\u001b[0m \u001b[0mf\u001b[0m\u001b[1;33m(\u001b[0m\u001b[1;33m**\u001b[0m\u001b[0mkwargs\u001b[0m\u001b[1;33m)\u001b[0m\u001b[1;33m\u001b[0m\u001b[1;33m\u001b[0m\u001b[0m\n\u001b[0m\u001b[0;32m     47\u001b[0m     \u001b[1;32mreturn\u001b[0m \u001b[0minner_f\u001b[0m\u001b[1;33m\u001b[0m\u001b[1;33m\u001b[0m\u001b[0m\n\u001b[0;32m     48\u001b[0m \u001b[1;33m\u001b[0m\u001b[0m\n",
      "\u001b[1;32mC:\\Anaconda\\lib\\site-packages\\seaborn\\relational.py\u001b[0m in \u001b[0;36mlineplot\u001b[1;34m(x, y, hue, size, style, data, palette, hue_order, hue_norm, sizes, size_order, size_norm, dashes, markers, style_order, units, estimator, ci, n_boot, seed, sort, err_style, err_kws, legend, ax, **kwargs)\u001b[0m\n\u001b[0;32m    690\u001b[0m \u001b[1;33m\u001b[0m\u001b[0m\n\u001b[0;32m    691\u001b[0m     \u001b[0mvariables\u001b[0m \u001b[1;33m=\u001b[0m \u001b[0m_LinePlotter\u001b[0m\u001b[1;33m.\u001b[0m\u001b[0mget_semantics\u001b[0m\u001b[1;33m(\u001b[0m\u001b[0mlocals\u001b[0m\u001b[1;33m(\u001b[0m\u001b[1;33m)\u001b[0m\u001b[1;33m)\u001b[0m\u001b[1;33m\u001b[0m\u001b[1;33m\u001b[0m\u001b[0m\n\u001b[1;32m--> 692\u001b[1;33m     p = _LinePlotter(\n\u001b[0m\u001b[0;32m    693\u001b[0m         \u001b[0mdata\u001b[0m\u001b[1;33m=\u001b[0m\u001b[0mdata\u001b[0m\u001b[1;33m,\u001b[0m \u001b[0mvariables\u001b[0m\u001b[1;33m=\u001b[0m\u001b[0mvariables\u001b[0m\u001b[1;33m,\u001b[0m\u001b[1;33m\u001b[0m\u001b[1;33m\u001b[0m\u001b[0m\n\u001b[0;32m    694\u001b[0m         \u001b[0mestimator\u001b[0m\u001b[1;33m=\u001b[0m\u001b[0mestimator\u001b[0m\u001b[1;33m,\u001b[0m \u001b[0mci\u001b[0m\u001b[1;33m=\u001b[0m\u001b[0mci\u001b[0m\u001b[1;33m,\u001b[0m \u001b[0mn_boot\u001b[0m\u001b[1;33m=\u001b[0m\u001b[0mn_boot\u001b[0m\u001b[1;33m,\u001b[0m \u001b[0mseed\u001b[0m\u001b[1;33m=\u001b[0m\u001b[0mseed\u001b[0m\u001b[1;33m,\u001b[0m\u001b[1;33m\u001b[0m\u001b[1;33m\u001b[0m\u001b[0m\n",
      "\u001b[1;32mC:\\Anaconda\\lib\\site-packages\\seaborn\\relational.py\u001b[0m in \u001b[0;36m__init__\u001b[1;34m(self, data, variables, estimator, ci, n_boot, seed, sort, err_style, err_kws, legend)\u001b[0m\n\u001b[0;32m    365\u001b[0m         )\n\u001b[0;32m    366\u001b[0m \u001b[1;33m\u001b[0m\u001b[0m\n\u001b[1;32m--> 367\u001b[1;33m         \u001b[0msuper\u001b[0m\u001b[1;33m(\u001b[0m\u001b[1;33m)\u001b[0m\u001b[1;33m.\u001b[0m\u001b[0m__init__\u001b[0m\u001b[1;33m(\u001b[0m\u001b[0mdata\u001b[0m\u001b[1;33m=\u001b[0m\u001b[0mdata\u001b[0m\u001b[1;33m,\u001b[0m \u001b[0mvariables\u001b[0m\u001b[1;33m=\u001b[0m\u001b[0mvariables\u001b[0m\u001b[1;33m)\u001b[0m\u001b[1;33m\u001b[0m\u001b[1;33m\u001b[0m\u001b[0m\n\u001b[0m\u001b[0;32m    368\u001b[0m \u001b[1;33m\u001b[0m\u001b[0m\n\u001b[0;32m    369\u001b[0m         \u001b[0mself\u001b[0m\u001b[1;33m.\u001b[0m\u001b[0mestimator\u001b[0m \u001b[1;33m=\u001b[0m \u001b[0mestimator\u001b[0m\u001b[1;33m\u001b[0m\u001b[1;33m\u001b[0m\u001b[0m\n",
      "\u001b[1;32mC:\\Anaconda\\lib\\site-packages\\seaborn\\_core.py\u001b[0m in \u001b[0;36m__init__\u001b[1;34m(self, data, variables)\u001b[0m\n\u001b[0;32m    603\u001b[0m     \u001b[1;32mdef\u001b[0m \u001b[0m__init__\u001b[0m\u001b[1;33m(\u001b[0m\u001b[0mself\u001b[0m\u001b[1;33m,\u001b[0m \u001b[0mdata\u001b[0m\u001b[1;33m=\u001b[0m\u001b[1;32mNone\u001b[0m\u001b[1;33m,\u001b[0m \u001b[0mvariables\u001b[0m\u001b[1;33m=\u001b[0m\u001b[1;33m{\u001b[0m\u001b[1;33m}\u001b[0m\u001b[1;33m)\u001b[0m\u001b[1;33m:\u001b[0m\u001b[1;33m\u001b[0m\u001b[1;33m\u001b[0m\u001b[0m\n\u001b[0;32m    604\u001b[0m \u001b[1;33m\u001b[0m\u001b[0m\n\u001b[1;32m--> 605\u001b[1;33m         \u001b[0mself\u001b[0m\u001b[1;33m.\u001b[0m\u001b[0massign_variables\u001b[0m\u001b[1;33m(\u001b[0m\u001b[0mdata\u001b[0m\u001b[1;33m,\u001b[0m \u001b[0mvariables\u001b[0m\u001b[1;33m)\u001b[0m\u001b[1;33m\u001b[0m\u001b[1;33m\u001b[0m\u001b[0m\n\u001b[0m\u001b[0;32m    606\u001b[0m \u001b[1;33m\u001b[0m\u001b[0m\n\u001b[0;32m    607\u001b[0m         \u001b[1;32mfor\u001b[0m \u001b[0mvar\u001b[0m\u001b[1;33m,\u001b[0m \u001b[0mcls\u001b[0m \u001b[1;32min\u001b[0m \u001b[0mself\u001b[0m\u001b[1;33m.\u001b[0m\u001b[0m_semantic_mappings\u001b[0m\u001b[1;33m.\u001b[0m\u001b[0mitems\u001b[0m\u001b[1;33m(\u001b[0m\u001b[1;33m)\u001b[0m\u001b[1;33m:\u001b[0m\u001b[1;33m\u001b[0m\u001b[1;33m\u001b[0m\u001b[0m\n",
      "\u001b[1;32mC:\\Anaconda\\lib\\site-packages\\seaborn\\_core.py\u001b[0m in \u001b[0;36massign_variables\u001b[1;34m(self, data, variables)\u001b[0m\n\u001b[0;32m    666\u001b[0m         \u001b[1;32melse\u001b[0m\u001b[1;33m:\u001b[0m\u001b[1;33m\u001b[0m\u001b[1;33m\u001b[0m\u001b[0m\n\u001b[0;32m    667\u001b[0m             \u001b[0mself\u001b[0m\u001b[1;33m.\u001b[0m\u001b[0minput_format\u001b[0m \u001b[1;33m=\u001b[0m \u001b[1;34m\"long\"\u001b[0m\u001b[1;33m\u001b[0m\u001b[1;33m\u001b[0m\u001b[0m\n\u001b[1;32m--> 668\u001b[1;33m             plot_data, variables = self._assign_variables_longform(\n\u001b[0m\u001b[0;32m    669\u001b[0m                 \u001b[0mdata\u001b[0m\u001b[1;33m,\u001b[0m \u001b[1;33m**\u001b[0m\u001b[0mvariables\u001b[0m\u001b[1;33m,\u001b[0m\u001b[1;33m\u001b[0m\u001b[1;33m\u001b[0m\u001b[0m\n\u001b[0;32m    670\u001b[0m             )\n",
      "\u001b[1;32mC:\\Anaconda\\lib\\site-packages\\seaborn\\_core.py\u001b[0m in \u001b[0;36m_assign_variables_longform\u001b[1;34m(self, data, **kwargs)\u001b[0m\n\u001b[0;32m    916\u001b[0m                             \u001b[1;34mf\" and the vector passed to `{key}` has length {len(val)}.\"\u001b[0m\u001b[1;33m\u001b[0m\u001b[1;33m\u001b[0m\u001b[0m\n\u001b[0;32m    917\u001b[0m                         )\n\u001b[1;32m--> 918\u001b[1;33m                         \u001b[1;32mraise\u001b[0m \u001b[0mValueError\u001b[0m\u001b[1;33m(\u001b[0m\u001b[0merr\u001b[0m\u001b[1;33m)\u001b[0m\u001b[1;33m\u001b[0m\u001b[1;33m\u001b[0m\u001b[0m\n\u001b[0m\u001b[0;32m    919\u001b[0m \u001b[1;33m\u001b[0m\u001b[0m\n\u001b[0;32m    920\u001b[0m                 \u001b[0mplot_data\u001b[0m\u001b[1;33m[\u001b[0m\u001b[0mkey\u001b[0m\u001b[1;33m]\u001b[0m \u001b[1;33m=\u001b[0m \u001b[0mval\u001b[0m\u001b[1;33m\u001b[0m\u001b[1;33m\u001b[0m\u001b[0m\n",
      "\u001b[1;31mValueError\u001b[0m: Length of Int64Index vectors must match length of `data` when both are used, but `data` has length 9216 and the vector passed to `x` has length 24."
     ]
    },
    {
     "data": {
      "text/plain": [
       "<Figure size 864x360 with 0 Axes>"
      ]
     },
     "metadata": {},
     "output_type": "display_data"
    }
   ],
   "source": [
    "#Subsetting related columns\n",
    "\n",
    "dfSub = df.loc[0:9216, [\"Patient Admission Date\", \"Hour\", \"DayOfWeek\", \"MonthName\", \"Year\"]]\n",
    "\n",
    "#Calcullating number of patients in the ER per hour\n",
    "\n",
    "hour = dfSub[\"Hour\"].value_counts().sort_index()\n",
    "#hour\n",
    "\n",
    "#Visualization showing the busiest hour:\n",
    "\n",
    "plt.figure(figsize=(12, 5))\n",
    "sns.lineplot(data=dfSub, x=hour.index, y=hour.values, hue='yellow', alpha=0.8, linewidth=2)#plt.plot(hour.index,hour.values)\n",
    "plt.xticks(hour.index)\n",
    "plt.xlabel(\"Hours of the day\")\n",
    "plt.ylabel(\"Total Number of Patients\")\n",
    "plt.title(\"Number of Patients in the ER per hour\")\n",
    "plt.show()"
   ]
  },
  {
   "cell_type": "code",
   "execution_count": 31,
   "id": "a6971a0b",
   "metadata": {},
   "outputs": [
    {
     "data": {
      "image/png": "[encoded data removed]",
      "text/plain": [
       "<Figure size 720x360 with 1 Axes>"
      ]
     },
     "metadata": {
      "needs_background": "light"
     },
     "output_type": "display_data"
    }
   ],
   "source": [
    "#Calcullating number of patients in the ER weekly\n",
    "\n",
    "\n",
    "# Ensure your 'DayOfWeek' column is a categorical type with the desired order\n",
    "day_order = ['Sunday', 'Monday', 'Tuesday', 'Wednesday', 'Thursday', 'Friday', 'Saturday']\n",
    "dfSub['DayOfWeek'] = pd.Categorical(dfSub['DayOfWeek'], categories=day_order, ordered=True)\n",
    "\n",
    "# Count the values and sort by the day order\n",
    "day = dfSub['DayOfWeek'].value_counts().sort_index()\n",
    "\n",
    "\n",
    "#Visualization showing the busiest day of the week:\n",
    "\n",
    "plt.figure(figsize=(10, 5))\n",
    "plt.bar(day.index, day.values)\n",
    "plt.xlabel(\"Days of the Week\")\n",
    "plt.ylabel(\"Total Number of Patients\")\n",
    "plt.title(\"Number of Patients in the ER per week\")\n",
    "plt.show() \n",
    "\n"
   ]
  },
  {
   "cell_type": "code",
   "execution_count": 32,
   "id": "a7e984b6",
   "metadata": {},
   "outputs": [
    {
     "name": "stdout",
     "output_type": "stream",
     "text": [
      "January       513\n",
      "February      431\n",
      "March         506\n",
      "April         948\n",
      "May           999\n",
      "June          991\n",
      "July          952\n",
      "August       1024\n",
      "September     935\n",
      "October       964\n",
      "November      464\n",
      "December      489\n",
      "Name: MonthName, dtype: int64\n"
     ]
    },
    {
     "data": {
      "image/png": "[encoded data removed]",
      "text/plain": [
       "<Figure size 864x360 with 1 Axes>"
      ]
     },
     "metadata": {
      "needs_background": "light"
     },
     "output_type": "display_data"
    }
   ],
   "source": [
    "#Calcullating number of patients in the ER monthly\n",
    "\n",
    "\n",
    "# Ensure your 'DayOfWeek' column is a categorical type with the desired order\n",
    "month_order = [\"January\", \"February\", \"March\", \"April\", \"May\", \"June\", \"July\", \"August\", \"September\", \"October\", \"November\", \"December\"]\n",
    "dfSub[\"MonthName\"] = pd.Categorical(dfSub[\"MonthName\"], categories=month_order, ordered=True)\n",
    "\n",
    "# Count the values and sort by the day order\n",
    "\n",
    "month = dfSub['MonthName'].value_counts().sort_index()\n",
    "print(month)\n",
    "\n",
    "#Visualization showing the busiest month of the year:\n",
    "\n",
    "plt.figure(figsize=(12, 5))\n",
    "plt.bar(month.index,month.values)\n",
    "plt.xlabel(\"Months of the Year\")\n",
    "plt.ylabel(\"Total Number of Patients\")\n",
    "plt.title(\"Total Number of Patients in the ER per Months\")\n",
    "plt.show()  \n"
   ]
  },
  {
   "cell_type": "code",
   "execution_count": 33,
   "id": "2b33c2ad",
   "metadata": {},
   "outputs": [
    {
     "data": {
      "image/png": "[encoded data removed]",
      "text/plain": [
       "<Figure size 360x504 with 1 Axes>"
      ]
     },
     "metadata": {
      "needs_background": "light"
     },
     "output_type": "display_data"
    }
   ],
   "source": [
    "#Calcullating number of patients in the ER in the years\n",
    "\n",
    "year = dfSub[\"Year\"].value_counts().sort_index()\n",
    "\n",
    "#Visualization showing the busiest day of the week:\n",
    "\n",
    "plt.figure(figsize=(5, 7))\n",
    "bars = plt.bar(year.index, year.values)\n",
    "plt.xlabel(\"Years\")\n",
    "plt.xticks(year.index) \n",
    "plt.ylabel(\"Total Number of Patients\")\n",
    "plt.title(\"Number of Patients in the ER per year\")\n",
    "\n",
    "for bar in bars:\n",
    "    yval = bar.get_height()\n",
    "    plt.text(bar.get_x() + bar.get_width()/2, yval, int(yval), ha=\"center\", va=\"bottom\")\n",
    "\n",
    "\n",
    "plt.show()"
   ]
  },
  {
   "cell_type": "markdown",
   "id": "2d5ea37a",
   "metadata": {},
   "source": [
    "## Summary / Data Storytelling\n",
    "\n",
    "The ER data records 9216 cases of patients from 1st January 2023 to 30th October 2024, most of whom are adults, Whites and African Americans. There are slightly more male than female (51 and 49 percent respectfully) with age range 1-79. The demography also includes Asians (12%), Pacific Islanders (6%), Native Americans/Alaska Native (5%), patients of two or more races (17%), as well as those who have declined to identify (11%).  \n",
    "\n",
    "Patients that come into the ER typically spend 35 minutes from when they check in or are triaged until they receive an initial medical evaluation or treatment. However, they can spend up to an hour waiting. Depending on the patient's age group and the department to which they are referred, there may be a variation of plus or minus 2 minutes, contingent upon referral. Though, 3 of 5 patients are discharged right from the ER because they have no need to be referred to a specialty, and 1 requires critical health management after the ER visit, all 5 have equal chances of being admitted (or not). \n",
    "\n",
    "African American children within 3 and 12 years mostly treat gastroenterology related illnesses, and White Adults and young adults within ages 36-55 and 20-35 is mostly referred to Renal and Neurology department respectively. While a lot of  elderly White men and women more than 55 years are discharged directly from the ER, most frequently treat cardiology, orthopedics, physiotherapy, neurology, and general practice related illnesses. \n",
    "\n",
    "The ER is least visited during the winter, and is at its peak just before the end of summer in August. Therefore, winter period is the best time for ER staff developmental programs.\n",
    "\n",
    "At the end of a visit to the ER, patients’ satisfaction of the experience is almost never affected by the wait time only. Further analysis (Feature Selection Process) can be carried out to determine other factors that influence patients’ satisfaction score. However, it is crucial to reduce patients wait time to the barest minimum by keeping track of the busiest periods and matching up with adequate staff to properly care for patients. Finally, hospital policies on doctor to patient ratio and employment of ER staff may be reviewed to reduce work load and  less burnout which improves patients care and experience in the ER and ultimately patients satisfaction score. \n",
    "\n"
   ]
  },
  {
   "cell_type": "markdown",
   "id": "bba762da",
   "metadata": {},
   "source": [
    "## Stay Tuned....!"
   ]
  },
  {
   "cell_type": "code",
   "execution_count": null,
   "id": "abe1bc65",
   "metadata": {},
   "outputs": [],
   "source": []
  }
 ],
 "metadata": {
  "kernelspec": {
   "display_name": "Python 3 (ipykernel)",
   "language": "python",
   "name": "python3"
  },
  "language_info": {
   "codemirror_mode": {
    "name": "ipython",
    "version": 3
   },
   "file_extension": ".py",
   "mimetype": "text/x-python",
   "name": "python",
   "nbconvert_exporter": "python",
   "pygments_lexer": "ipython3",
   "version": "3.9.7"
  }
 },
 "nbformat": 4,
 "nbformat_minor": 5
}
